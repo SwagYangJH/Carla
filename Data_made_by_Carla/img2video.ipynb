{
 "cells": [
  {
   "cell_type": "code",
   "execution_count": 8,
   "id": "8680c3b0",
   "metadata": {},
   "outputs": [],
   "source": [
    "import glob\n",
    "dirs = glob.glob(\"./bigop/*\")"
   ]
  },
  {
   "cell_type": "code",
   "execution_count": 12,
   "id": "e16207aa",
   "metadata": {},
   "outputs": [],
   "source": [
    "front = []\n",
    "rear =[]\n",
    "left =[]\n",
    "right =[]\n",
    "\n",
    "trigger = 1\n",
    "\n",
    "for i in range(len(dirs)):\n",
    "    if trigger ==1 :\n",
    "        front.append(dirs[i])\n",
    "        trigger = trigger + 1 \n",
    "    elif trigger ==2 :\n",
    "        rear.append(dirs[i])\n",
    "        trigger = trigger + 1 \n",
    "        \n",
    "    elif trigger ==3 :\n",
    "        left.append(dirs[i])\n",
    "        trigger = trigger + 1 \n",
    "        \n",
    "    elif trigger ==4 :\n",
    "        right.append(dirs[i])\n",
    "        trigger = 1\n",
    "\n",
    "    "
   ]
  },
  {
   "cell_type": "code",
   "execution_count": 13,
   "id": "3c3a46e0",
   "metadata": {},
   "outputs": [
    {
     "data": {
      "text/plain": [
       "['./bigop\\\\2022-07-17 164912157890.png',\n",
       " './bigop\\\\2022-07-17 164912224713.png',\n",
       " './bigop\\\\2022-07-17 164912272584.png',\n",
       " './bigop\\\\2022-07-17 164912319457.png',\n",
       " './bigop\\\\2022-07-17 164912364337.png',\n",
       " './bigop\\\\2022-07-17 164912411211.png',\n",
       " './bigop\\\\2022-07-17 164912459084.png',\n",
       " './bigop\\\\2022-07-17 164912502967.png',\n",
       " './bigop\\\\2022-07-17 164912546848.png',\n",
       " './bigop\\\\2022-07-17 164912593725.png',\n",
       " './bigop\\\\2022-07-17 164912641596.png',\n",
       " './bigop\\\\2022-07-17 164912688470.png',\n",
       " './bigop\\\\2022-07-17 164912737339.png',\n",
       " './bigop\\\\2022-07-17 164912784214.png',\n",
       " './bigop\\\\2022-07-17 164912834080.png',\n",
       " './bigop\\\\2022-07-17 164912883947.png',\n",
       " './bigop\\\\2022-07-17 164912930823.png',\n",
       " './bigop\\\\2022-07-17 164912974705.png',\n",
       " './bigop\\\\2022-07-17 164913017099.png',\n",
       " './bigop\\\\2022-07-17 164913064971.png',\n",
       " './bigop\\\\2022-07-17 164913108854.png',\n",
       " './bigop\\\\2022-07-17 164913151739.png',\n",
       " './bigop\\\\2022-07-17 164913194625.png',\n",
       " './bigop\\\\2022-07-17 164913240502.png',\n",
       " './bigop\\\\2022-07-17 164913287376.png',\n",
       " './bigop\\\\2022-07-17 164913329264.png',\n",
       " './bigop\\\\2022-07-17 164913374144.png',\n",
       " './bigop\\\\2022-07-17 164913417611.png',\n",
       " './bigop\\\\2022-07-17 164913461494.png',\n",
       " './bigop\\\\2022-07-17 164913505376.png',\n",
       " './bigop\\\\2022-07-17 164913549258.png',\n",
       " './bigop\\\\2022-07-17 164913594139.png',\n",
       " './bigop\\\\2022-07-17 164913638021.png',\n",
       " './bigop\\\\2022-07-17 164913679910.png',\n",
       " './bigop\\\\2022-07-17 164913725788.png',\n",
       " './bigop\\\\2022-07-17 164913769668.png',\n",
       " './bigop\\\\2022-07-17 164913817541.png',\n",
       " './bigop\\\\2022-07-17 164913861424.png',\n",
       " './bigop\\\\2022-07-17 164913907301.png',\n",
       " './bigop\\\\2022-07-17 164913950187.png',\n",
       " './bigop\\\\2022-07-17 164913991077.png',\n",
       " './bigop\\\\2022-07-17 164914037952.png',\n",
       " './bigop\\\\2022-07-17 164914080837.png',\n",
       " './bigop\\\\2022-07-17 164914123722.png',\n",
       " './bigop\\\\2022-07-17 164914165610.png',\n",
       " './bigop\\\\2022-07-17 164914209493.png',\n",
       " './bigop\\\\2022-07-17 164914254374.png',\n",
       " './bigop\\\\2022-07-17 164914301247.png',\n",
       " './bigop\\\\2022-07-17 164914350117.png',\n",
       " './bigop\\\\2022-07-17 164914402975.png',\n",
       " './bigop\\\\2022-07-17 164914455834.png',\n",
       " './bigop\\\\2022-07-17 164914508693.png',\n",
       " './bigop\\\\2022-07-17 164914560554.png',\n",
       " './bigop\\\\2022-07-17 164914614410.png',\n",
       " './bigop\\\\2022-07-17 164914660289.png',\n",
       " './bigop\\\\2022-07-17 164914704171.png',\n",
       " './bigop\\\\2022-07-17 164914750048.png',\n",
       " './bigop\\\\2022-07-17 164914793931.png',\n",
       " './bigop\\\\2022-07-17 164914837812.png',\n",
       " './bigop\\\\2022-07-17 164914882693.png',\n",
       " './bigop\\\\2022-07-17 164914927247.png',\n",
       " './bigop\\\\2022-07-17 164914971130.png',\n",
       " './bigop\\\\2022-07-17 164915016013.png',\n",
       " './bigop\\\\2022-07-17 164915061886.png',\n",
       " './bigop\\\\2022-07-17 164915105770.png',\n",
       " './bigop\\\\2022-07-17 164915148166.png',\n",
       " './bigop\\\\2022-07-17 164915192049.png',\n",
       " './bigop\\\\2022-07-17 164915234933.png',\n",
       " './bigop\\\\2022-07-17 164915281808.png',\n",
       " './bigop\\\\2022-07-17 164915325692.png',\n",
       " './bigop\\\\2022-07-17 164915369575.png',\n",
       " './bigop\\\\2022-07-17 164915412459.png',\n",
       " './bigop\\\\2022-07-17 164915457340.png',\n",
       " './bigop\\\\2022-07-17 164915500224.png',\n",
       " './bigop\\\\2022-07-17 164915544107.png',\n",
       " './bigop\\\\2022-07-17 164915588988.png',\n",
       " './bigop\\\\2022-07-17 164915632870.png',\n",
       " './bigop\\\\2022-07-17 164915675756.png',\n",
       " './bigop\\\\2022-07-17 164915721633.png',\n",
       " './bigop\\\\2022-07-17 164915766514.png',\n",
       " './bigop\\\\2022-07-17 164915812390.png',\n",
       " './bigop\\\\2022-07-17 164915857270.png',\n",
       " './bigop\\\\2022-07-17 164915902150.png',\n",
       " './bigop\\\\2022-07-17 164915946033.png',\n",
       " './bigop\\\\2022-07-17 164915988918.png',\n",
       " './bigop\\\\2022-07-17 164916032801.png',\n",
       " './bigop\\\\2022-07-17 164916076683.png',\n",
       " './bigop\\\\2022-07-17 164916129541.png',\n",
       " './bigop\\\\2022-07-17 164916178192.png',\n",
       " './bigop\\\\2022-07-17 164916224072.png',\n",
       " './bigop\\\\2022-07-17 164916270946.png',\n",
       " './bigop\\\\2022-07-17 164916318817.png',\n",
       " './bigop\\\\2022-07-17 164916363696.png',\n",
       " './bigop\\\\2022-07-17 164916410572.png',\n",
       " './bigop\\\\2022-07-17 164916457446.png',\n",
       " './bigop\\\\2022-07-17 164916501330.png',\n",
       " './bigop\\\\2022-07-17 164916546716.png',\n",
       " './bigop\\\\2022-07-17 164916588604.png',\n",
       " './bigop\\\\2022-07-17 164916631489.png',\n",
       " './bigop\\\\2022-07-17 164916674375.png',\n",
       " './bigop\\\\2022-07-17 164916717259.png',\n",
       " './bigop\\\\2022-07-17 164916766130.png',\n",
       " './bigop\\\\2022-07-17 164916809014.png',\n",
       " './bigop\\\\2022-07-17 164916852898.png',\n",
       " './bigop\\\\2022-07-17 164916895782.png',\n",
       " './bigop\\\\2022-07-17 164916942656.png',\n",
       " './bigop\\\\2022-07-17 164916987537.png',\n",
       " './bigop\\\\2022-07-17 164917030423.png',\n",
       " './bigop\\\\2022-07-17 164917073307.png',\n",
       " './bigop\\\\2022-07-17 164917116192.png',\n",
       " './bigop\\\\2022-07-17 164917161073.png',\n",
       " './bigop\\\\2022-07-17 164917207949.png',\n",
       " './bigop\\\\2022-07-17 164917249836.png',\n",
       " './bigop\\\\2022-07-17 164917292721.png',\n",
       " './bigop\\\\2022-07-17 164917336603.png',\n",
       " './bigop\\\\2022-07-17 164917379490.png',\n",
       " './bigop\\\\2022-07-17 164917422375.png',\n",
       " './bigop\\\\2022-07-17 164917469249.png',\n",
       " './bigop\\\\2022-07-17 164917512134.png',\n",
       " './bigop\\\\2022-07-17 164917557015.png',\n",
       " './bigop\\\\2022-07-17 164917600897.png',\n",
       " './bigop\\\\2022-07-17 164917642786.png',\n",
       " './bigop\\\\2022-07-17 164917682683.png',\n",
       " './bigop\\\\2022-07-17 164917730555.png',\n",
       " './bigop\\\\2022-07-17 164917777431.png',\n",
       " './bigop\\\\2022-07-17 164917820315.png',\n",
       " './bigop\\\\2022-07-17 164917866124.png',\n",
       " './bigop\\\\2022-07-17 164917908012.png',\n",
       " './bigop\\\\2022-07-17 164917953637.png',\n",
       " './bigop\\\\2022-07-17 164917998517.png',\n",
       " './bigop\\\\2022-07-17 164918043397.png',\n",
       " './bigop\\\\2022-07-17 164918086283.png',\n",
       " './bigop\\\\2022-07-17 164918131162.png',\n",
       " './bigop\\\\2022-07-17 164918173050.png',\n",
       " './bigop\\\\2022-07-17 164918217931.png',\n",
       " './bigop\\\\2022-07-17 164918262810.png',\n",
       " './bigop\\\\2022-07-17 164918306692.png']"
      ]
     },
     "execution_count": 13,
     "metadata": {},
     "output_type": "execute_result"
    }
   ],
   "source": [
    "right"
   ]
  },
  {
   "cell_type": "code",
   "execution_count": 19,
   "id": "eb0d7323",
   "metadata": {},
   "outputs": [],
   "source": [
    "import cv2"
   ]
  },
  {
   "cell_type": "code",
   "execution_count": 34,
   "id": "88b7e23e",
   "metadata": {},
   "outputs": [
    {
     "data": {
      "text/plain": [
       "(360, 426, 3)"
      ]
     },
     "execution_count": 34,
     "metadata": {},
     "output_type": "execute_result"
    }
   ],
   "source": [
    "img_blur.shape"
   ]
  },
  {
   "cell_type": "code",
   "execution_count": 35,
   "id": "f11f7e5e",
   "metadata": {},
   "outputs": [],
   "source": [
    "sobelx = cv2.Sobel(src=img_blur, ddepth=cv2.CV_64F, dx=1, dy=0, ksize=5) # Sobel Edge Detection on the X axis"
   ]
  },
  {
   "cell_type": "code",
   "execution_count": 36,
   "id": "05857299",
   "metadata": {},
   "outputs": [
    {
     "data": {
      "text/plain": [
       "(360, 426, 3)"
      ]
     },
     "execution_count": 36,
     "metadata": {},
     "output_type": "execute_result"
    }
   ],
   "source": [
    "sobelx.shape"
   ]
  },
  {
   "cell_type": "code",
   "execution_count": 44,
   "id": "1de6ec8a",
   "metadata": {},
   "outputs": [],
   "source": [
    "import numpy as np"
   ]
  },
  {
   "cell_type": "code",
   "execution_count": 49,
   "id": "f11bf975",
   "metadata": {},
   "outputs": [
    {
     "ename": "ImportError",
     "evalue": "cannot import name 'dist' from 'math' (unknown location)",
     "output_type": "error",
     "traceback": [
      "\u001b[1;31m---------------------------------------------------------------------------\u001b[0m",
      "\u001b[1;31mImportError\u001b[0m                               Traceback (most recent call last)",
      "\u001b[1;32m~\\AppData\\Local\\Temp\\ipykernel_18136\\3536244965.py\u001b[0m in \u001b[0;36m<module>\u001b[1;34m\u001b[0m\n\u001b[1;32m----> 1\u001b[1;33m \u001b[1;32mfrom\u001b[0m \u001b[0mmath\u001b[0m \u001b[1;32mimport\u001b[0m \u001b[0mdist\u001b[0m\u001b[1;33m\u001b[0m\u001b[1;33m\u001b[0m\u001b[0m\n\u001b[0m",
      "\u001b[1;31mImportError\u001b[0m: cannot import name 'dist' from 'math' (unknown location)"
     ]
    }
   ],
   "source": [
    "from math import dist"
   ]
  },
  {
   "cell_type": "code",
   "execution_count": 51,
   "id": "544ce8f8",
   "metadata": {},
   "outputs": [],
   "source": [
    "# def dist(p1,p2):\n",
    "#     return math.sqrt( ((int(p1[0])-int(p2[0]))**2)+((int(p1[1])-int(p2[1]))**2) )"
   ]
  },
  {
   "cell_type": "code",
   "execution_count": 56,
   "id": "8db0dca9",
   "metadata": {},
   "outputs": [],
   "source": [
    "\n",
    "\n",
    "\n",
    "# def get_lines (main_img):\n",
    "#     # Setting parameter values\n",
    "#     t_lower = 50  # Lower Threshold\n",
    "#     t_upper = 150  # Upper threshold\n",
    "\n",
    "#     # Applying the Canny Edge filter\n",
    "#     edge = cv2.Canny(main_img, t_lower, t_upper)\n",
    "#     lines = cv2.HoughLines(edge, 1, np.pi/180, 200)\n",
    "\n",
    "#     for r_theta in lines:\n",
    "#         arr = np.array(r_theta[0], dtype=np.float64)\n",
    "#         r, theta = arr\n",
    "#         # Stores the value of cos(theta) in a\n",
    "#         a = np.cos(theta)\n",
    "\n",
    "#         # Stores the value of sin(theta) in b\n",
    "#         b = np.sin(theta)\n",
    "\n",
    "#         # x0 stores the value rcos(theta)\n",
    "#         x0 = a*r\n",
    "\n",
    "#         # y0 stores the value rsin(theta)\n",
    "#         y0 = b*r\n",
    "\n",
    "#         # x1 stores the rounded off value of (rcos(theta)-1000sin(theta))\n",
    "#         x1 = int(x0 + 1000*(-b))\n",
    "\n",
    "#         # y1 stores the rounded off value of (rsin(theta)+1000cos(theta))\n",
    "#         y1 = int(y0 + 1000*(a))\n",
    "\n",
    "#         # x2 stores the rounded off value of (rcos(theta)+1000sin(theta))\n",
    "#         x2 = int(x0 - 1000*(-b))\n",
    "\n",
    "#         # y2 stores the rounded off value of (rsin(theta)-1000cos(theta))\n",
    "#         y2 = int(y0 - 1000*(a))\n",
    "\n",
    "\n",
    "#         p = [x1, y1]\n",
    "#         q = [x2, y2]\n",
    "\n",
    "#         # Calculate Euclidean distance\n",
    "        \n",
    "\n",
    "\n",
    "#         # cv2.line draws a line in img from the point(x1,y1) to (x2,y2).\n",
    "#         # (0,0,255) denotes the colour of the line to be\n",
    "#         # drawn. In this case, it is red.\n",
    "#         cv2.line(main_img, (x1, y1), (x2, y2), (0, 0, 255), 2)\n",
    "\n",
    "    \n",
    "#     return main_img\n",
    "\n"
   ]
  },
  {
   "cell_type": "code",
   "execution_count": 57,
   "id": "1041693c",
   "metadata": {},
   "outputs": [],
   "source": [
    "frame = cv2.imread(front[0])\n",
    "height, width, layers = frame.shape  \n",
    "\n",
    "video = cv2.VideoWriter('./bigop2/test.mp4', 0, 1, (width, height)) \n",
    "\n",
    "\n",
    "\n",
    "for image in front: \n",
    "    img = cv2.imread(image)\n",
    "    video.write(img)\n",
    "\n",
    "# cv2.destroyAllWindows() \n",
    "video.release()  # releasing the video generated"
   ]
  },
  {
   "cell_type": "code",
   "execution_count": 30,
   "id": "b5ee963a",
   "metadata": {},
   "outputs": [
    {
     "ename": "NameError",
     "evalue": "name 'os' is not defined",
     "output_type": "error",
     "traceback": [
      "\u001b[1;31m---------------------------------------------------------------------------\u001b[0m",
      "\u001b[1;31mNameError\u001b[0m                                 Traceback (most recent call last)",
      "\u001b[1;32m~\\AppData\\Local\\Temp\\ipykernel_18136\\3699705128.py\u001b[0m in \u001b[0;36m<module>\u001b[1;34m\u001b[0m\n\u001b[0;32m     32\u001b[0m \u001b[1;33m\u001b[0m\u001b[0m\n\u001b[0;32m     33\u001b[0m \u001b[1;31m# Calling the generate_video function\u001b[0m\u001b[1;33m\u001b[0m\u001b[1;33m\u001b[0m\u001b[1;33m\u001b[0m\u001b[0m\n\u001b[1;32m---> 34\u001b[1;33m \u001b[0mgenerate_video\u001b[0m\u001b[1;33m(\u001b[0m\u001b[1;33m)\u001b[0m\u001b[1;33m\u001b[0m\u001b[1;33m\u001b[0m\u001b[0m\n\u001b[0m",
      "\u001b[1;32m~\\AppData\\Local\\Temp\\ipykernel_18136\\3699705128.py\u001b[0m in \u001b[0;36mgenerate_video\u001b[1;34m()\u001b[0m\n\u001b[0;32m      3\u001b[0m     \u001b[0mimage_folder\u001b[0m \u001b[1;33m=\u001b[0m \u001b[1;34m'.'\u001b[0m \u001b[1;31m# make sure to use your folder\u001b[0m\u001b[1;33m\u001b[0m\u001b[1;33m\u001b[0m\u001b[0m\n\u001b[0;32m      4\u001b[0m     \u001b[0mvideo_name\u001b[0m \u001b[1;33m=\u001b[0m \u001b[1;34m'mygeneratedvideo.avi'\u001b[0m\u001b[1;33m\u001b[0m\u001b[1;33m\u001b[0m\u001b[0m\n\u001b[1;32m----> 5\u001b[1;33m     \u001b[0mos\u001b[0m\u001b[1;33m.\u001b[0m\u001b[0mchdir\u001b[0m\u001b[1;33m(\u001b[0m\u001b[1;34m\"C:\\\\Python\\\\Geekfolder2\"\u001b[0m\u001b[1;33m)\u001b[0m\u001b[1;33m\u001b[0m\u001b[1;33m\u001b[0m\u001b[0m\n\u001b[0m\u001b[0;32m      6\u001b[0m \u001b[1;33m\u001b[0m\u001b[0m\n\u001b[0;32m      7\u001b[0m     images = [img for img in os.listdir(image_folder)\n",
      "\u001b[1;31mNameError\u001b[0m: name 'os' is not defined"
     ]
    }
   ],
   "source": [
    "# Video Generating function\n",
    "def generate_video():\n",
    "    image_folder = '.' # make sure to use your folder\n",
    "    video_name = 'mygeneratedvideo.avi'\n",
    "    os.chdir(\"C:\\\\Python\\\\Geekfolder2\")\n",
    "      \n",
    "    images = [img for img in os.listdir(image_folder)\n",
    "              if img.endswith(\".jpg\") or\n",
    "                 img.endswith(\".jpeg\") or\n",
    "                 img.endswith(\"png\")]\n",
    "     \n",
    "    # Array images should only consider\n",
    "    # the image files ignoring others if any\n",
    "    print(images) \n",
    "  \n",
    "    frame = cv2.imread(os.path.join(image_folder))\n",
    "  \n",
    "    # setting the frame width, height width\n",
    "    # the width, height of first image\n",
    "    height, width, layers = frame.shape  \n",
    "  \n",
    "    video = cv2.VideoWriter(video_name, 0, 1, (width, height)) \n",
    "  \n",
    "    # Appending the images to the video one by one\n",
    "    for image in images: \n",
    "        video.write(cv2.imread(os.path.join(image_folder, image))) \n",
    "      \n",
    "    # Deallocating memories taken for window creation\n",
    "    cv2.destroyAllWindows() \n",
    "    video.release()  # releasing the video generated\n",
    "  \n",
    "  \n",
    "# Calling the generate_video function\n",
    "generate_video()"
   ]
  },
  {
   "cell_type": "code",
   "execution_count": null,
   "id": "03b31110",
   "metadata": {},
   "outputs": [],
   "source": []
  }
 ],
 "metadata": {
  "kernelspec": {
   "display_name": "Python 3 (ipykernel)",
   "language": "python",
   "name": "python3"
  },
  "language_info": {
   "codemirror_mode": {
    "name": "ipython",
    "version": 3
   },
   "file_extension": ".py",
   "mimetype": "text/x-python",
   "name": "python",
   "nbconvert_exporter": "python",
   "pygments_lexer": "ipython3",
   "version": "3.7.13"
  }
 },
 "nbformat": 4,
 "nbformat_minor": 5
}
